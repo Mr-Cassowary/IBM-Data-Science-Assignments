#!/usr/bin/env python
# coding: utf-8

# # Data Science Tools and Techniques

# ## Introduction
# 
# This notebook provides an overview of data science languages, libraries, tools, and basic arithmetic operations.

# ## Data Science Languages
# 
# * Python
# * R
# * SQL
# * Julia

# ## Data Science Libraries
# 
# * NumPy
# * Pandas
# * Matplotlib
# * Seaborn
# * Scikit-learn
# 

# ## Data Science Tools
# 
# | Tool | Description |
# |---|---|
# | Jupyter Notebook | Interactive environment for data analysis and visualization |
# | RStudio | Integrated development environment for R |
# | Python IDEs (PyCharm, Visual Studio Code) | Code editors for Python development |
# | SQL Server Management Studio | Database management tool |
# | Tableau, Power BI | Data visualization and business intelligence tools |
# 

# ## Arithmetic Expression Examples
# 
# * Basic arithmetic operations can be performed using Python.

# In[8]:


# Multiply and add numbers
result = (3 * 5) + 2
print(result)


# In[10]:


# Convert minutes to hours
minutes = 150
hours = minutes / 60
print(hours)


# # Objectives
# Understand the fundamental tools and languages used in data science.
# Perform basic arithmetic operations in Python.

# # Author: Zubair Gul

# In[ ]:




